{
 "cells": [
  {
   "cell_type": "code",
   "execution_count": 1,
   "metadata": {},
   "outputs": [],
   "source": [
    "%matplotlib inline\n",
    "import argparse\n",
    "import csv\n",
    "import logging\n",
    "import os\n",
    "import random\n",
    "import sys\n",
    "import pickle\n",
    "import time\n",
    "import numpy as np\n",
    "from termcolor import colored\n",
    "import matplotlib\n",
    "import matplotlib.pyplot as plt\n",
    "import seaborn as sns\n",
    "from bert_util import *"
   ]
  },
  {
   "cell_type": "code",
   "execution_count": 2,
   "metadata": {},
   "outputs": [],
   "source": [
    "mnli_processor = MnliProcessor()\n",
    "hans_processor = HansProcessor()\n",
    "train_examples = mnli_processor.get_train_examples('data/', 10000)\n",
    "test_examples = hans_processor.get_test_examples('data/')"
   ]
  },
  {
   "cell_type": "code",
   "execution_count": null,
   "metadata": {},
   "outputs": [],
   "source": []
  },
  {
   "cell_type": "code",
   "execution_count": 171,
   "metadata": {},
   "outputs": [
    {
     "name": "stdout",
     "output_type": "stream",
     "text": [
      "7\n",
      "\u001b[34mThe athlete by the doctors encouraged the senator .\u001b[0m \u001b[31mThe athlete encouraged the senator .\u001b[0m entailment\n"
     ]
    }
   ],
   "source": [
    "interested_test_idx = 7\n",
    "\n",
    "for te in test_examples:\n",
    "    if te.guid == interested_test_idx:\n",
    "        print(te.guid)\n",
    "        print(colored(te.text_a, \"blue\"), colored(te.text_b, \"red\"), te.label)\n",
    "        break"
   ]
  },
  {
   "cell_type": "code",
   "execution_count": 172,
   "metadata": {},
   "outputs": [],
   "source": [
    "test_tok_sal_list, train_tok_sal_lists, test_pred_status = pickle.load(open(\"from_aws/NLI_influence_output_bert_e3/saliency_test_\" + str(interested_test_idx) + \".pkl\", \"rb\"))"
   ]
  },
  {
   "cell_type": "code",
   "execution_count": 173,
   "metadata": {},
   "outputs": [
    {
     "data": {
      "text/plain": [
       "'correct'"
      ]
     },
     "execution_count": 173,
     "metadata": {},
     "output_type": "execute_result"
    }
   ],
   "source": [
    "test_pred_status"
   ]
  },
  {
   "cell_type": "code",
   "execution_count": 174,
   "metadata": {},
   "outputs": [
    {
     "name": "stdout",
     "output_type": "stream",
     "text": [
      "[CLS]\t0.004317282\n",
      "the\t-0.007485319\n",
      "athlete\t-0.14760923\n",
      "by\t-0.049165454\n",
      "the\t-0.050391756\n",
      "doctors\t-0.14886299\n",
      "encouraged\t-0.088029\n",
      "the\t-0.032777905\n",
      "senator\t-0.055137962\n",
      ".\t-0.01177289\n",
      "[SEP]\t0.003715336\n",
      "\u001b[32mthe\t0.01097851\u001b[0m\n",
      "athlete\t-0.04906088\n",
      "\u001b[32mencouraged\t0.08856703\u001b[0m\n",
      "the\t-0.009075683\n",
      "senator\t-0.18473382\n",
      ".\t-0.022565214\n",
      "\u001b[32m[SEP]\t0.035753675\u001b[0m\n"
     ]
    }
   ],
   "source": [
    "top_sal_ix = [_ix for _ix, _ in sorted(enumerate(test_tok_sal_list), key=lambda x: -x[1][1])][:3]\n",
    "for ix, (tok, sal) in enumerate(test_tok_sal_list):\n",
    "    if ix in top_sal_ix:\n",
    "        print(colored(tok + '\\t' + str(sal), \"green\"))\n",
    "    else:\n",
    "        print(tok + '\\t' + str(sal))"
   ]
  },
  {
   "cell_type": "code",
   "execution_count": null,
   "metadata": {},
   "outputs": [],
   "source": []
  },
  {
   "cell_type": "code",
   "execution_count": 175,
   "metadata": {},
   "outputs": [],
   "source": [
    "influences = pickle.load(open(\"from_aws/NLI_influence_output_bert_e3/influences_test_\" + str(interested_test_idx) + \".pkl\", \"rb\"))\n",
    "influences = stats.zscore(influences)"
   ]
  },
  {
   "cell_type": "code",
   "execution_count": 176,
   "metadata": {},
   "outputs": [
    {
     "data": {
      "text/plain": [
       "<matplotlib.axes._subplots.AxesSubplot at 0x7faa006ee208>"
      ]
     },
     "execution_count": 176,
     "metadata": {},
     "output_type": "execute_result"
    },
    {
     "data": {
      "image/png": "[encoded data removed]",
      "text/plain": [
       "<Figure size 432x288 with 1 Axes>"
      ]
     },
     "metadata": {
      "needs_background": "light"
     },
     "output_type": "display_data"
    }
   ],
   "source": [
    "sns.distplot(influences)"
   ]
  },
  {
   "cell_type": "code",
   "execution_count": null,
   "metadata": {},
   "outputs": [],
   "source": []
  },
  {
   "cell_type": "code",
   "execution_count": 177,
   "metadata": {},
   "outputs": [
    {
     "name": "stdout",
     "output_type": "stream",
     "text": [
      "\u001b[34mOne of the drawings on view at MoMA is a diagram of the races, with the Jews identified as circumscised [ sic ] cut off from Earth.\u001b[0m \u001b[31mJews think of drawings on the MoMA as a diagram of the races teaching circumcision. \u001b[0m entailment\n",
      "10.675267619891791\n",
      "\n",
      "\u001b[34mTwo pillars surviving from the Greek Temple of Apollo stand like a gateway, but the Spanish era has given it a charming 17th-century ambience of Baroque houses with iron balconies supported by floral carvings and an occasional stone nymph.\u001b[0m \u001b[31mIt's comprised of parts of the Greek Temple of Apollo and Spanish Baroque houses.\u001b[0m entailment\n",
      "9.935398536642214\n",
      "\n",
      "\u001b[34mbecause you're having fun\u001b[0m \u001b[31mBecause you're having fun\u001b[0m entailment\n",
      "9.227490645253376\n",
      "\n",
      "\u001b[34m9. INVERSE PRICE CAPS\u001b[0m \u001b[31m9 Inward caps on price. \u001b[0m entailment\n",
      "9.15203224663952\n",
      "\n",
      "\u001b[34mI don't know if I was in heaven or hell, said Lillian Carter, the president's mother, after a visit.\u001b[0m \u001b[31mThe president's mother visited.\u001b[0m entailment\n",
      "9.069184865280848\n",
      "\n",
      "\u001b[34mDo it now, think 'bout it later.\u001b[0m \u001b[31mDon't think about it now, just do it.\u001b[0m entailment\n",
      "7.887612892136819\n",
      "\n",
      "\u001b[34mThe participating lawyers say Ginsburg, a diehard Red Sox fan known for his trademark bow ties, is tough to turn down.\u001b[0m \u001b[31mGinsburg is exceptionally tough to refuse according to the lawyers.\u001b[0m entailment\n",
      "7.605703526667061\n",
      "\n",
      "\u001b[34mHowever, they noted that more detailed guidelines often provided answers to employees' questions and served as a tool for educating subordinate security managers and others who wanted a more thorough understanding of good security practices.\u001b[0m \u001b[31mThe remarked that thorough guidelines are useful for educating security managers in lower ranks. \u001b[0m entailment\n",
      "7.352414811634403\n",
      "\n",
      "\u001b[34mIn 1511 Diego de Velazquez sailed from neighboring Hispaniola with some 300 conquistadores (conquerors).\u001b[0m \u001b[31mDiego de Velazquez sailed from Hispaniola in 1511.\u001b[0m entailment\n",
      "6.955728404245563\n",
      "\n",
      "\u001b[34mThese would be special cases of the more general case analyzed here.\u001b[0m \u001b[31mThis analysis is more general than these special cases.\u001b[0m entailment\n",
      "6.748324392734631\n",
      "\n",
      "\u001b[34mShenzhen's main tourist attractions are its enormous theme parks.\u001b[0m \u001b[31mMost tourists visit Shenzhen for its theme parks.\u001b[0m entailment\n",
      "6.551952339413625\n",
      "\n",
      "\u001b[34mAuditors should report the scope of their testing of compliance with laws and regulations and of internal control over financial reporting, including whether or not the tests they performed provided sufficient evidence to support an opinion on compliance with laws and regulations or internal control over financial reporting and whether the auditors are providing such opinions.\u001b[0m \u001b[31mThere might not be sufficient evidence for an opinion on compliance.\u001b[0m entailment\n",
      "6.473572188336845\n",
      "\n",
      "\u001b[34mTherma on the north coast is still an active spa offering treatments for ailments from rheumatism to infertility.\u001b[0m \u001b[31mTherma is an active spa that offers treatments for a wide range of conditions from rheumatism to infertility.\u001b[0m entailment\n",
      "6.295039745357184\n",
      "\n",
      "\u001b[34mBut Rubin's cautiousness has got the better of him.\u001b[0m \u001b[31mRubin had been too cautious.\u001b[0m entailment\n",
      "6.212309163040578\n",
      "\n",
      "\u001b[34mno i've uh you you can rent people's kiln they they uh you take your pieces to their house or their ceramic shop and uh pay them there's one woman that charge ten dollars a month for fire all that i wanted\u001b[0m \u001b[31mThere are people that let you rent their kilns to finish pieces at their shop.\u001b[0m entailment\n",
      "6.181591459080156\n",
      "\n",
      "\u001b[34mFiction has its glories, but concealment is merely squalid.\u001b[0m \u001b[31mHiding things is just dirty, whereas there is glory in fiction\u001b[0m entailment\n",
      "6.093391750516259\n",
      "\n",
      "\u001b[34mAn active government cultural policy in recent years has ?­preserved the architectural monuments of the  national patrimony  from the ravages of time, weather, war, revolution, and urban development.\u001b[0m \u001b[31mAn active government cultural policy was developed not too long ago.\u001b[0m entailment\n",
      "5.966764713009971\n",
      "\n",
      "\u001b[34mthat's Major Dad at eight i think it is\u001b[0m \u001b[31mI think Major Dad is on at eight o'clock.\u001b[0m entailment\n",
      "5.956997115552974\n",
      "\n",
      "\u001b[34mTotals may not sum due to rounding.\u001b[0m \u001b[31mRounding may cause inaccurate totals.\u001b[0m entailment\n",
      "5.925547974245473\n",
      "\n",
      "\u001b[34mIt's possible he's guilty.\u001b[0m \u001b[31mIt cannot be said that innocence is an absolute certainty.\u001b[0m entailment\n",
      "5.895998260705707\n",
      "\n"
     ]
    }
   ],
   "source": [
    "order_of_interest = \"max\"\n",
    "label_of_interest = \"both\"\n",
    "num_of_interest = 20\n",
    "\n",
    "train_idx_sorted = list(np.argsort(influences))\n",
    "if order_of_interest == \"max\":\n",
    "    train_idx_sorted.reverse()\n",
    "if label_of_interest == \"both\":\n",
    "    valid_labels = [\"entailment\", \"non-entailment\"]\n",
    "else:\n",
    "    valid_labels = [label_of_interest]\n",
    "\n",
    "cnt = 0\n",
    "for idx in train_idx_sorted:\n",
    "    te = train_examples[idx]\n",
    "    if te.label in valid_labels:\n",
    "        print(colored(te.text_a, \"blue\"), colored(te.text_b, \"red\"), te.label)\n",
    "        print(influences[idx])\n",
    "#         top_sal_ix = [_ix for _ix, _ in sorted(enumerate(train_tok_sal_lists[idx]), key=lambda x: -x[1][1])][:3]\n",
    "#         for ix, (tok, sal) in enumerate(train_tok_sal_lists[idx]):\n",
    "#             if ix in top_sal_ix:\n",
    "#                 print(colored(tok + '\\t' + str(sal), \"green\"))\n",
    "#             else:\n",
    "#                 print(tok + '\\t' + str(sal))\n",
    "        print()\n",
    "        cnt += 1\n",
    "    if cnt >= num_of_interest:\n",
    "        break"
   ]
  },
  {
   "cell_type": "code",
   "execution_count": null,
   "metadata": {},
   "outputs": [],
   "source": []
  },
  {
   "cell_type": "code",
   "execution_count": 168,
   "metadata": {},
   "outputs": [
    {
     "name": "stdout",
     "output_type": "stream",
     "text": [
      "\u001b[34mH'm, yes, that might be, said John. \u001b[0m \u001b[31mYes, that might be the case, said John.\u001b[0m non-entailment\n",
      "-15.835316861365476\n",
      "\n",
      "\u001b[34mThis coalition of public and private entities undertakes initiatives aimed at raising public awareness about personal finance and retirement planning.\u001b[0m \u001b[31mPersonal finance and retirement planning are initiatives aimed at raising public awareness.\u001b[0m non-entailment\n",
      "-14.574376762573735\n",
      "\n",
      "\u001b[34mIf you've installed Internet Explorer 4.0, the new version of Microsoft's browser, you might like to take a peek at our new Table of Contents, designed especially to take advantage of the advances in Internet Explorer 4.0.\u001b[0m \u001b[31mWith Internet Explorer 4.0, you can take advantage of our new Table of Contents for Internet Explorer 4.0 users.\u001b[0m non-entailment\n",
      "-14.305925970899958\n",
      "\n",
      "\u001b[34mTheir applicability to case study evaluations outside of settings such as GAO is being explored.\u001b[0m \u001b[31mThey are exploring the applicability to case study evaluations inside the settings.\u001b[0m non-entailment\n",
      "-14.163630165532917\n",
      "\n",
      "\u001b[34mEt  In an interview on Late Edition , Ken Starr says that if he could do it over again, he would have used the independent counsel's office as a bully pulpit, appearing on television to counter the White House's spin doctors.\u001b[0m \u001b[31mKen Starr used tv appearances to counter the spin doctors.\u001b[0m non-entailment\n",
      "-14.047570778703388\n",
      "\n",
      "\u001b[34mAs you fly down the coast from Caletta, you'll suddenly spot a small forest of tall domes in a town with a lake at its center.\u001b[0m \u001b[31mAs you arrive in Caletta from the coast, you will see a town with a small forest and lake next to it.\u001b[0m non-entailment\n",
      "-13.664267712736645\n",
      "\n",
      "\u001b[34mIt is better than being cooked and eaten, said San'doro.\u001b[0m \u001b[31mSan'doro wants to be cooked and eaten. \u001b[0m non-entailment\n",
      "-13.625070354449424\n",
      "\n",
      "\u001b[34mOne benefit is better meeting the diverse information needs of investors in evaluating funds, which has become more difficult as the number of funds has grown.\u001b[0m \u001b[31mInvestors have diverse needs when it comes to the information they need about stakeholders.\u001b[0m non-entailment\n",
      "-13.579489785068866\n",
      "\n",
      "\u001b[34mThe massive mansion opposite, nearly as impressive, houses the Casa de efrica, with pelts, drums, costumes, carved figures, and furniture from some 26 African countries, as well as a tantalizing collection of objects related to santeraa, the syncretic Afro-Cuban religion (see page 26; Casa de efrica will likely be closed for renovations until the end of 2000).\u001b[0m \u001b[31mFurniture from some 26 African countries can be found in the small mansion.\u001b[0m non-entailment\n",
      "-12.871885934365315\n",
      "\n",
      "\u001b[34mTo many Madeirans who believe the Lady of Monte has carried them through troubled times, the pilgrimage is an obligation.\u001b[0m \u001b[31mBecause the Lady of Monte is believed to have carried them through troubled times, Madeirans believe the pilgrimage is an obligation.\u001b[0m non-entailment\n",
      "-12.848709373663336\n",
      "\n",
      "\u001b[34mThe foundations date back to the 1170s when Strongbow, the earl of Pembroke, had it rebuilt as a stone structure.\u001b[0m \u001b[31mThe foundations of the building are from Strongbow's time.\u001b[0m non-entailment\n",
      "-12.614859255737555\n",
      "\n",
      "\u001b[34mthat seems to be an up and coming business i know out there where we are there's there's uh a person on each side of our county that now have aviaries\u001b[0m \u001b[31mAviaries are an up-and-coming business.\u001b[0m non-entailment\n",
      "-12.519039352363905\n",
      "\n",
      "\u001b[34mThey actually seem to play because they love their game.\u001b[0m \u001b[31mThey seem to play because of their love of the game and of each other.\u001b[0m non-entailment\n",
      "-12.043642566979226\n",
      "\n",
      "\u001b[34mOne of the oldest churches in the world, it was the only church in the Holy Land not destroyed during the Persian invasion of 614 the invaders noticed an icon of the Magi (who were fellow Persians) and spared the structure.\u001b[0m \u001b[31mIt was the only church not destroyed during the Persian invasion.\u001b[0m non-entailment\n",
      "-11.866403957682397\n",
      "\n",
      "\u001b[34mYou get us a working Franklin in two weeks, and we'll pretend everything is happening exactly as it should.\u001b[0m \u001b[31mThere was a deadline imposed to get Franklin working in two weeks, otherwise there would be an issue.\u001b[0m entailment\n",
      "-11.839088725426494\n",
      "\n",
      "\u001b[34mum for the worst i would assume\u001b[0m \u001b[31mFor the best I would assume.\u001b[0m non-entailment\n",
      "-11.736669020481518\n",
      "\n",
      "\u001b[34moh gosh well uh one that comes to mind is a lady i don't know what the heck she was doing in her dishwasher but she was in her dishwasher her head was in her dishwasher and her hair got caught\u001b[0m \u001b[31mA lady was doing something in her dishwasher.\u001b[0m non-entailment\n",
      "-11.346783397408258\n",
      "\n",
      "\u001b[34mSorry, Tuppence.\u001b[0m \u001b[31mSorry, Tuppence.\u001b[0m non-entailment\n",
      "-10.665433899485622\n",
      "\n",
      "\u001b[34mIt's true that coverage of Clinton on the campaign trail has been somewhat softer than the coverage of Dole, as even other Times reporters acknowledge.\u001b[0m \u001b[31mSome of the shoreline homes have hot tubs and covered porches. \u001b[0m entailment\n",
      "-10.633858594643545\n",
      "\n",
      "\u001b[34mThe word had filled his head as though the girl had whispered directly into both ears.\u001b[0m \u001b[31mThe girl spoke very quietly. \u001b[0m entailment\n",
      "-10.491693157430452\n",
      "\n"
     ]
    }
   ],
   "source": [
    "order_of_interest = \"min\"\n",
    "label_of_interest = \"both\"\n",
    "num_of_interest = 20\n",
    "\n",
    "train_idx_sorted = list(np.argsort(influences))\n",
    "if order_of_interest == \"max\":\n",
    "    train_idx_sorted.reverse()\n",
    "if label_of_interest == \"both\":\n",
    "    valid_labels = [\"entailment\", \"non-entailment\"]\n",
    "else:\n",
    "    valid_labels = [label_of_interest]\n",
    "\n",
    "cnt = 0\n",
    "for idx in train_idx_sorted:\n",
    "    te = train_examples[idx]\n",
    "    if te.label in valid_labels:\n",
    "        print(colored(te.text_a, \"blue\"), colored(te.text_b, \"red\"), te.label)\n",
    "        print(influences[idx])\n",
    "#         top_sal_ix = [_ix for _ix, _ in sorted(enumerate(train_tok_sal_lists[idx]), key=lambda x: -x[1][1])][:3]\n",
    "#         for ix, (tok, sal) in enumerate(train_tok_sal_lists[idx]):\n",
    "#             if ix in top_sal_ix:\n",
    "#                 print(colored(tok + '\\t' + str(sal), \"green\"))\n",
    "#             else:\n",
    "#                 print(tok + '\\t' + str(sal))\n",
    "        print()\n",
    "        cnt += 1\n",
    "    if cnt >= num_of_interest:\n",
    "        break"
   ]
  },
  {
   "cell_type": "code",
   "execution_count": null,
   "metadata": {},
   "outputs": [],
   "source": []
  }
 ],
 "metadata": {
  "kernelspec": {
   "display_name": "Python 3",
   "language": "python",
   "name": "python3"
  },
  "language_info": {
   "codemirror_mode": {
    "name": "ipython",
    "version": 3
   },
   "file_extension": ".py",
   "mimetype": "text/x-python",
   "name": "python",
   "nbconvert_exporter": "python",
   "pygments_lexer": "ipython3",
   "version": "3.7.3"
  }
 },
 "nbformat": 4,
 "nbformat_minor": 4
}
