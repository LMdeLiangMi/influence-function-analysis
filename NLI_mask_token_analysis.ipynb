{
 "cells": [
  {
   "cell_type": "code",
   "execution_count": 1,
   "metadata": {},
   "outputs": [],
   "source": [
    "%matplotlib inline\n",
    "import argparse\n",
    "import csv\n",
    "import logging\n",
    "import os\n",
    "import random\n",
    "import sys\n",
    "import pickle\n",
    "import time\n",
    "import numpy as np\n",
    "from termcolor import colored\n",
    "import matplotlib\n",
    "import matplotlib.pyplot as plt\n",
    "import seaborn as sns\n",
    "from bert_util import *"
   ]
  },
  {
   "cell_type": "code",
   "execution_count": 2,
   "metadata": {},
   "outputs": [],
   "source": [
    "mnli_processor = MnliProcessor()\n",
    "hans_processor = HansProcessor()\n",
    "train_examples = mnli_processor.get_train_examples('data/', 10000)\n",
    "test_examples = hans_processor.get_test_examples('data/')"
   ]
  },
  {
   "cell_type": "code",
   "execution_count": null,
   "metadata": {},
   "outputs": [],
   "source": []
  },
  {
   "cell_type": "code",
   "execution_count": 3,
   "metadata": {},
   "outputs": [
    {
     "name": "stdout",
     "output_type": "stream",
     "text": [
      "7\n",
      "\u001b[34mThe athlete by the doctors encouraged the senator .\u001b[0m \u001b[31mThe athlete encouraged the senator .\u001b[0m entailment\n"
     ]
    }
   ],
   "source": [
    "interested_test_idx = 7\n",
    "\n",
    "for te in test_examples:\n",
    "    if te.guid == interested_test_idx:\n",
    "        print(te.guid)\n",
    "        print(colored(te.text_a, \"blue\"), colored(te.text_b, \"red\"), te.label)\n",
    "        break"
   ]
  },
  {
   "cell_type": "code",
   "execution_count": 4,
   "metadata": {},
   "outputs": [],
   "source": [
    "test_tok_sal_list, train_tok_sal_lists, test_pred_status = pickle.load(open(\"from_aws/NLI_influence_output_bert_e3/saliency_test_\" + str(interested_test_idx) + \".pkl\", \"rb\"))"
   ]
  },
  {
   "cell_type": "code",
   "execution_count": 5,
   "metadata": {},
   "outputs": [
    {
     "name": "stdout",
     "output_type": "stream",
     "text": [
      "[CLS]\t0.004317282\n",
      "the\t-0.007485319\n",
      "athlete\t-0.14760923\n",
      "by\t-0.049165454\n",
      "the\t-0.050391756\n",
      "doctors\t-0.14886299\n",
      "encouraged\t-0.088029\n",
      "the\t-0.032777905\n",
      "senator\t-0.055137962\n",
      ".\t-0.01177289\n",
      "[SEP]\t0.003715336\n",
      "\u001b[32mthe\t0.01097851\u001b[0m\n",
      "athlete\t-0.04906088\n",
      "\u001b[32mencouraged\t0.08856703\u001b[0m\n",
      "the\t-0.009075683\n",
      "senator\t-0.18473382\n",
      ".\t-0.022565214\n",
      "\u001b[32m[SEP]\t0.035753675\u001b[0m\n"
     ]
    }
   ],
   "source": [
    "top_sal_ix = [_ix for _ix, _ in sorted(enumerate(test_tok_sal_list), key=lambda x: -x[1][1])][:3]\n",
    "for ix, (tok, sal) in enumerate(test_tok_sal_list):\n",
    "    if ix in top_sal_ix:\n",
    "        print(colored(tok + '\\t' + str(sal), \"green\"))\n",
    "    else:\n",
    "        print(tok + '\\t' + str(sal))"
   ]
  },
  {
   "cell_type": "code",
   "execution_count": null,
   "metadata": {},
   "outputs": [],
   "source": []
  },
  {
   "cell_type": "code",
   "execution_count": 6,
   "metadata": {},
   "outputs": [],
   "source": [
    "orig_influences = pickle.load(open(\"from_aws/NLI_influence_output_bert_e3/influences_test_\" + str(interested_test_idx) + \".pkl\", \"rb\"))"
   ]
  },
  {
   "cell_type": "code",
   "execution_count": 7,
   "metadata": {},
   "outputs": [
    {
     "name": "stdout",
     "output_type": "stream",
     "text": [
      "\u001b[34mOne of the drawings on view at MoMA is a diagram of the races, with the Jews identified as circumscised [ sic ] cut off from Earth.\u001b[0m \u001b[31mJews think of drawings on the MoMA as a diagram of the races teaching circumcision. \u001b[0m entailment\n",
      "5.741442680358887\n",
      "\n",
      "\u001b[34mTwo pillars surviving from the Greek Temple of Apollo stand like a gateway, but the Spanish era has given it a charming 17th-century ambience of Baroque houses with iron balconies supported by floral carvings and an occasional stone nymph.\u001b[0m \u001b[31mIt's comprised of parts of the Greek Temple of Apollo and Spanish Baroque houses.\u001b[0m entailment\n",
      "5.344240665435791\n",
      "\n",
      "\u001b[34mbecause you're having fun\u001b[0m \u001b[31mBecause you're having fun\u001b[0m entailment\n",
      "4.964197158813477\n",
      "\n",
      "\u001b[34m9. INVERSE PRICE CAPS\u001b[0m \u001b[31m9 Inward caps on price. \u001b[0m entailment\n",
      "4.923686981201172\n",
      "\n",
      "\u001b[34mI don't know if I was in heaven or hell, said Lillian Carter, the president's mother, after a visit.\u001b[0m \u001b[31mThe president's mother visited.\u001b[0m entailment\n",
      "4.879209995269775\n",
      "\n",
      "\u001b[34mDo it now, think 'bout it later.\u001b[0m \u001b[31mDon't think about it now, just do it.\u001b[0m entailment\n",
      "4.244877815246582\n",
      "\n",
      "\u001b[34mThe participating lawyers say Ginsburg, a diehard Red Sox fan known for his trademark bow ties, is tough to turn down.\u001b[0m \u001b[31mGinsburg is exceptionally tough to refuse according to the lawyers.\u001b[0m entailment\n",
      "4.093533515930176\n",
      "\n",
      "\u001b[34mHowever, they noted that more detailed guidelines often provided answers to employees' questions and served as a tool for educating subordinate security managers and others who wanted a more thorough understanding of good security practices.\u001b[0m \u001b[31mThe remarked that thorough guidelines are useful for educating security managers in lower ranks. \u001b[0m entailment\n",
      "3.957554340362549\n",
      "\n",
      "\u001b[34mIn 1511 Diego de Velazquez sailed from neighboring Hispaniola with some 300 conquistadores (conquerors).\u001b[0m \u001b[31mDiego de Velazquez sailed from Hispaniola in 1511.\u001b[0m entailment\n",
      "3.744591474533081\n",
      "\n",
      "\u001b[34mThese would be special cases of the more general case analyzed here.\u001b[0m \u001b[31mThis analysis is more general than these special cases.\u001b[0m entailment\n",
      "3.6332457065582275\n",
      "\n"
     ]
    }
   ],
   "source": [
    "order_of_interest = \"max\"\n",
    "label_of_interest = \"both\"\n",
    "num_of_interest = 10\n",
    "\n",
    "train_idx_sorted = list(np.argsort(orig_influences))\n",
    "if order_of_interest == \"max\":\n",
    "    train_idx_sorted.reverse()\n",
    "if label_of_interest == \"both\":\n",
    "    valid_labels = [\"entailment\", \"non-entailment\"]\n",
    "else:\n",
    "    valid_labels = [label_of_interest]\n",
    "\n",
    "cnt = 0\n",
    "for idx in train_idx_sorted:\n",
    "    te = train_examples[idx]\n",
    "    if te.label in valid_labels:\n",
    "        print(colored(te.text_a, \"blue\"), colored(te.text_b, \"red\"), te.label)\n",
    "        print(orig_influences[idx])\n",
    "#         top_sal_ix = [_ix for _ix, _ in sorted(enumerate(train_tok_sal_lists[idx]), key=lambda x: -x[1][1])][:3]\n",
    "#         for ix, (tok, sal) in enumerate(train_tok_sal_lists[idx]):\n",
    "#             if ix in top_sal_ix:\n",
    "#                 print(colored(tok + '\\t' + str(sal), \"green\"))\n",
    "#             else:\n",
    "#                 print(tok + '\\t' + str(sal))\n",
    "        print()\n",
    "        cnt += 1\n",
    "    if cnt >= num_of_interest:\n",
    "        break"
   ]
  },
  {
   "cell_type": "code",
   "execution_count": null,
   "metadata": {},
   "outputs": [],
   "source": []
  },
  {
   "cell_type": "code",
   "execution_count": 8,
   "metadata": {},
   "outputs": [],
   "source": [
    "diff_influences_list, mask_ix = pickle.load(open(\"from_aws/NLI_influence_output_bert_e3/diff_mask_influences_test_\" + str(interested_test_idx) + \".pkl\", \"rb\"))"
   ]
  },
  {
   "cell_type": "code",
   "execution_count": 9,
   "metadata": {},
   "outputs": [
    {
     "name": "stdout",
     "output_type": "stream",
     "text": [
      "w.r.t. token: encouraged\n",
      "\n",
      "\u001b[34mOne of the drawings on view at MoMA is a diagram of the races, with the Jews identified as circumscised [ sic ] cut off from Earth.\u001b[0m \u001b[31mJews think of drawings on the MoMA as a diagram of the races teaching circumcision. \u001b[0m entailment\n",
      "18.779272079467773\n",
      "\n",
      "\u001b[34mTwo pillars surviving from the Greek Temple of Apollo stand like a gateway, but the Spanish era has given it a charming 17th-century ambience of Baroque houses with iron balconies supported by floral carvings and an occasional stone nymph.\u001b[0m \u001b[31mIt's comprised of parts of the Greek Temple of Apollo and Spanish Baroque houses.\u001b[0m entailment\n",
      "18.099933624267578\n",
      "\n",
      "\u001b[34mI don't know if I was in heaven or hell, said Lillian Carter, the president's mother, after a visit.\u001b[0m \u001b[31mThe president's mother visited.\u001b[0m entailment\n",
      "16.18392562866211\n",
      "\n",
      "\u001b[34m9. INVERSE PRICE CAPS\u001b[0m \u001b[31m9 Inward caps on price. \u001b[0m entailment\n",
      "14.431646347045898\n",
      "\n",
      "\u001b[34mDo it now, think 'bout it later.\u001b[0m \u001b[31mDon't think about it now, just do it.\u001b[0m entailment\n",
      "12.819534301757812\n",
      "\n",
      "\u001b[34mbecause you're having fun\u001b[0m \u001b[31mBecause you're having fun\u001b[0m entailment\n",
      "12.689254760742188\n",
      "\n",
      "\u001b[34mthat's Major Dad at eight i think it is\u001b[0m \u001b[31mI think Major Dad is on at eight o'clock.\u001b[0m entailment\n",
      "12.103283882141113\n",
      "\n",
      "\u001b[34mIn 1511 Diego de Velazquez sailed from neighboring Hispaniola with some 300 conquistadores (conquerors).\u001b[0m \u001b[31mDiego de Velazquez sailed from Hispaniola in 1511.\u001b[0m entailment\n",
      "12.007287979125977\n",
      "\n",
      "\u001b[34mHowever, they noted that more detailed guidelines often provided answers to employees' questions and served as a tool for educating subordinate security managers and others who wanted a more thorough understanding of good security practices.\u001b[0m \u001b[31mThe remarked that thorough guidelines are useful for educating security managers in lower ranks. \u001b[0m entailment\n",
      "11.697555541992188\n",
      "\n",
      "\u001b[34mFiction has its glories, but concealment is merely squalid.\u001b[0m \u001b[31mHiding things is just dirty, whereas there is glory in fiction\u001b[0m entailment\n",
      "11.545598983764648\n",
      "\n"
     ]
    }
   ],
   "source": [
    "remove_token_type = 2\n",
    "\n",
    "influences = diff_influences_list[remove_token_type]\n",
    "print(\"w.r.t. token:\", test_tok_sal_list[mask_ix[remove_token_type]][0])\n",
    "print()\n",
    "\n",
    "order_of_interest = \"max\"\n",
    "label_of_interest = \"both\"\n",
    "num_of_interest = 10\n",
    "\n",
    "train_idx_sorted = list(np.argsort(influences))\n",
    "if order_of_interest == \"max\":\n",
    "    train_idx_sorted.reverse()\n",
    "if label_of_interest == \"both\":\n",
    "    valid_labels = [\"entailment\", \"non-entailment\"]\n",
    "else:\n",
    "    valid_labels = [label_of_interest]\n",
    "\n",
    "cnt = 0\n",
    "for idx in train_idx_sorted:\n",
    "    te = train_examples[idx]\n",
    "    if te.label in valid_labels:\n",
    "        print(colored(te.text_a, \"blue\"), colored(te.text_b, \"red\"), te.label)\n",
    "        print(influences[idx])\n",
    "        print()\n",
    "        cnt += 1\n",
    "    if cnt >= num_of_interest:\n",
    "        break"
   ]
  },
  {
   "cell_type": "code",
   "execution_count": null,
   "metadata": {},
   "outputs": [],
   "source": []
  },
  {
   "cell_type": "code",
   "execution_count": null,
   "metadata": {},
   "outputs": [],
   "source": []
  },
  {
   "cell_type": "code",
   "execution_count": null,
   "metadata": {},
   "outputs": [],
   "source": []
  },
  {
   "cell_type": "code",
   "execution_count": 59,
   "metadata": {},
   "outputs": [],
   "source": [
    "tp = 0.001\n",
    "\n",
    "idx_range = range(1, 31)\n",
    "influence_distance_lists = ([], [], [], [], [])\n",
    "for iti in idx_range:\n",
    "    orig_inf = pickle.load(open(\"from_aws/NLI_influence_output_bert_e3/influences_test_\" + str(iti) + \".pkl\", \"rb\"))\n",
    "    diff_inf_list, m_ix = pickle.load(open(\"from_aws/NLI_diff_influence_output_bert_e3/diff_mask_influences_test_\" + str(iti) + \".pkl\", \"rb\"))\n",
    "    for i, influences in enumerate(diff_inf_list):\n",
    "        influence_distance_lists[i].append(influence_distance(orig_inf, influences, top_percentage=tp))"
   ]
  },
  {
   "cell_type": "code",
   "execution_count": 60,
   "metadata": {},
   "outputs": [
    {
     "data": {
      "text/plain": [
       "0.32999999999999996"
      ]
     },
     "execution_count": 60,
     "metadata": {},
     "output_type": "execute_result"
    }
   ],
   "source": [
    "np.mean(influence_distance_lists[0])"
   ]
  },
  {
   "cell_type": "code",
   "execution_count": 61,
   "metadata": {},
   "outputs": [
    {
     "data": {
      "text/plain": [
       "0.7933333333333332"
      ]
     },
     "execution_count": 61,
     "metadata": {},
     "output_type": "execute_result"
    }
   ],
   "source": [
    "np.mean(influence_distance_lists[1])"
   ]
  },
  {
   "cell_type": "code",
   "execution_count": 62,
   "metadata": {},
   "outputs": [
    {
     "data": {
      "text/plain": [
       "0.46"
      ]
     },
     "execution_count": 62,
     "metadata": {},
     "output_type": "execute_result"
    }
   ],
   "source": [
    "np.mean(influence_distance_lists[2])"
   ]
  },
  {
   "cell_type": "code",
   "execution_count": 63,
   "metadata": {},
   "outputs": [
    {
     "data": {
      "text/plain": [
       "<matplotlib.axes._subplots.AxesSubplot at 0x7fe714440d30>"
      ]
     },
     "execution_count": 63,
     "metadata": {},
     "output_type": "execute_result"
    },
    {
     "data": {
      "image/png": "[encoded data removed]",
      "text/plain": [
       "<Figure size 432x288 with 1 Axes>"
      ]
     },
     "metadata": {
      "needs_background": "light"
     },
     "output_type": "display_data"
    }
   ],
   "source": [
    "sns.pointplot(x=[\"low\"]*len(idx_range)+[\"mid\"]*len(idx_range)+[\"high\"]*len(idx_range),\n",
    "              y=influence_distance_lists[0]+influence_distance_lists[1]+influence_distance_lists[2], ci=68)"
   ]
  },
  {
   "cell_type": "code",
   "execution_count": null,
   "metadata": {},
   "outputs": [],
   "source": []
  }
 ],
 "metadata": {
  "kernelspec": {
   "display_name": "Python 3",
   "language": "python",
   "name": "python3"
  },
  "language_info": {
   "codemirror_mode": {
    "name": "ipython",
    "version": 3
   },
   "file_extension": ".py",
   "mimetype": "text/x-python",
   "name": "python",
   "nbconvert_exporter": "python",
   "pygments_lexer": "ipython3",
   "version": "3.7.6"
  }
 },
 "nbformat": 4,
 "nbformat_minor": 4
}
