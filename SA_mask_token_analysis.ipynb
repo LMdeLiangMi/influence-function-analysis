{
 "cells": [
  {
   "cell_type": "code",
   "execution_count": 1,
   "metadata": {},
   "outputs": [],
   "source": [
    "%matplotlib inline\n",
    "import argparse\n",
    "import csv\n",
    "import logging\n",
    "import os\n",
    "import random\n",
    "import sys\n",
    "import pickle\n",
    "import time\n",
    "import numpy as np\n",
    "from termcolor import colored\n",
    "import matplotlib\n",
    "import matplotlib.pyplot as plt\n",
    "import seaborn as sns\n",
    "from bert_util import *"
   ]
  },
  {
   "cell_type": "code",
   "execution_count": 2,
   "metadata": {},
   "outputs": [],
   "source": [
    "sst_processor = Sst2Processor()\n",
    "train_examples = sst_processor.get_train_examples('data/', 10000)\n",
    "test_examples = sst_processor.get_dev_examples('data/')"
   ]
  },
  {
   "cell_type": "code",
   "execution_count": null,
   "metadata": {},
   "outputs": [],
   "source": []
  },
  {
   "cell_type": "code",
   "execution_count": 3,
   "metadata": {},
   "outputs": [
    {
     "name": "stdout",
     "output_type": "stream",
     "text": [
      "7\n",
      "\u001b[34ma sometimes tedious film . \u001b[0m 0\n"
     ]
    }
   ],
   "source": [
    "interested_test_idx = 7\n",
    "\n",
    "for te in test_examples:\n",
    "    if te.guid == interested_test_idx:\n",
    "        print(te.guid)\n",
    "        print(colored(te.text_a, \"blue\"), te.label)\n",
    "        break"
   ]
  },
  {
   "cell_type": "code",
   "execution_count": 4,
   "metadata": {},
   "outputs": [],
   "source": [
    "test_tok_sal_list, train_tok_sal_lists, test_pred_status = pickle.load(open(\"from_aws/SA_influence_output_bert_e3/saliency_test_\" + str(interested_test_idx) + \".pkl\", \"rb\"))"
   ]
  },
  {
   "cell_type": "code",
   "execution_count": 5,
   "metadata": {},
   "outputs": [
    {
     "name": "stdout",
     "output_type": "stream",
     "text": [
      "[CLS]\t0.015014335\n",
      "\u001b[32ma\t0.07373888\u001b[0m\n",
      "\u001b[32msometimes\t0.19994108\u001b[0m\n",
      "ted\t-0.45029685\n",
      "##ious\t0.0042031133\n",
      "film\t-0.031940274\n",
      ".\t-0.015620316\n",
      "\u001b[32m[SEP]\t0.20924518\u001b[0m\n"
     ]
    }
   ],
   "source": [
    "top_sal_ix = [_ix for _ix, _ in sorted(enumerate(test_tok_sal_list), key=lambda x: -x[1][1])][:3]\n",
    "for ix, (tok, sal) in enumerate(test_tok_sal_list):\n",
    "    if ix in top_sal_ix:\n",
    "        print(colored(tok + '\\t' + str(sal), \"green\"))\n",
    "    else:\n",
    "        print(tok + '\\t' + str(sal))"
   ]
  },
  {
   "cell_type": "code",
   "execution_count": null,
   "metadata": {},
   "outputs": [],
   "source": []
  },
  {
   "cell_type": "code",
   "execution_count": 6,
   "metadata": {},
   "outputs": [],
   "source": [
    "orig_influences = pickle.load(open(\"from_aws/SA_influence_output_bert_e3/influences_test_\" + str(interested_test_idx) + \".pkl\", \"rb\"))"
   ]
  },
  {
   "cell_type": "code",
   "execution_count": 7,
   "metadata": {},
   "outputs": [
    {
     "name": "stdout",
     "output_type": "stream",
     "text": [
      "\u001b[34mthat is the recording industry in the current climate of mergers and downsizing \u001b[0m 1\n",
      "31.986400604248047\n",
      "\n",
      "\u001b[34mcredulous \u001b[0m 1\n",
      "31.018287658691406\n",
      "\n",
      "\u001b[34man admittedly middling film \u001b[0m 1\n",
      "30.333276748657227\n",
      "\n",
      "\u001b[34ma simplistic narrative and \u001b[0m 1\n",
      "28.808013916015625\n",
      "\n",
      "\u001b[34mof its lurid fiction \u001b[0m 1\n",
      "28.745344161987305\n",
      "\n",
      "\u001b[34memphasising her plight and isolation \u001b[0m 1\n",
      "28.046144485473633\n",
      "\n",
      "\u001b[34mfresh-faced \u001b[0m 1\n",
      "26.88740348815918\n",
      "\n",
      "\u001b[34mthe moral shrapnel and mental shellshock will linger long after this film has ended . \u001b[0m 1\n",
      "26.08786392211914\n",
      "\n",
      "\u001b[34ma wacky , screwball comedy \u001b[0m 1\n",
      "24.073925018310547\n",
      "\n",
      "\u001b[34m, uninhibited \u001b[0m 1\n",
      "23.764463424682617\n",
      "\n"
     ]
    }
   ],
   "source": [
    "order_of_interest = \"max\"\n",
    "label_of_interest = \"both\"\n",
    "num_of_interest = 10\n",
    "\n",
    "train_idx_sorted = list(np.argsort(orig_influences))\n",
    "if order_of_interest == \"max\":\n",
    "    train_idx_sorted.reverse()\n",
    "if label_of_interest == \"both\":\n",
    "    valid_labels = [\"0\", \"1\"]\n",
    "else:\n",
    "    valid_labels = [label_of_interest]\n",
    "\n",
    "cnt = 0\n",
    "for idx in train_idx_sorted:\n",
    "    te = train_examples[idx]\n",
    "    if te.label in valid_labels:\n",
    "        print(colored(te.text_a, \"blue\"), te.label)\n",
    "        print(orig_influences[idx])\n",
    "#         top_sal_ix = [_ix for _ix, _ in sorted(enumerate(train_tok_sal_lists[idx]), key=lambda x: -x[1][1])][:3]\n",
    "#         for ix, (tok, sal) in enumerate(train_tok_sal_lists[idx]):\n",
    "#             if ix in top_sal_ix:\n",
    "#                 print(colored(tok + '\\t' + str(sal), \"green\"))\n",
    "#             else:\n",
    "#                 print(tok + '\\t' + str(sal))\n",
    "        print()\n",
    "        cnt += 1\n",
    "    if cnt >= num_of_interest:\n",
    "        break"
   ]
  },
  {
   "cell_type": "code",
   "execution_count": null,
   "metadata": {},
   "outputs": [],
   "source": []
  },
  {
   "cell_type": "code",
   "execution_count": 8,
   "metadata": {},
   "outputs": [],
   "source": [
    "diff_influences_list, mask_ix = pickle.load(open(\"from_aws/SA_influence_output_bert_e3/diff_mask_influences_test_\" + str(interested_test_idx) + \".pkl\", \"rb\"))"
   ]
  },
  {
   "cell_type": "code",
   "execution_count": 47,
   "metadata": {},
   "outputs": [
    {
     "name": "stdout",
     "output_type": "stream",
     "text": [
      "masked token: sometimes\n",
      "\n",
      "\u001b[34mvisually flashy but narratively opaque and \u001b[0m 0\n",
      "0.034249115735292435\n",
      "\n",
      "\u001b[34mfar too clever by half , howard 's film is really a series of strung-together moments , with all the spaces in between filled with fantasies , daydreams , memories and one fantastic visual trope after another . \u001b[0m 0\n",
      "0.033796798437833786\n",
      "\n",
      "\u001b[34mtedious norwegian offering which somehow snagged an oscar nomination . \u001b[0m 0\n",
      "0.03196989372372627\n",
      "\n",
      "\u001b[34mlaw enforcement , and a visceral , nasty journey \u001b[0m 0\n",
      "0.0297705065459013\n",
      "\n",
      "\u001b[34mfreaking out \u001b[0m 0\n",
      "0.02831873670220375\n",
      "\n",
      "\u001b[34mhuge gap \u001b[0m 0\n",
      "0.027937954291701317\n",
      "\n",
      "\u001b[34mthe film 's desire to be liked sometimes undermines the possibility for an exploration of the thornier aspects of the nature/nurture argument in regards to homosexuality . \u001b[0m 0\n",
      "0.026909133419394493\n",
      "\n",
      "\u001b[34mthe whole affair , true story or not , feels incredibly hokey ... \u001b[0m 0\n",
      "0.025996092706918716\n",
      "\n",
      "\u001b[34mamerican and european cinema has amassed a vast holocaust literature , but it is impossible to think of any film more challenging or depressing than the grey zone . \u001b[0m 0\n",
      "0.02592332288622856\n",
      "\n",
      "\u001b[34ma maddeningly insistent and repetitive piano score that made me want to scream \u001b[0m 0\n",
      "0.025843653827905655\n",
      "\n"
     ]
    }
   ],
   "source": [
    "remove_token_type = 2\n",
    "\n",
    "influences = diff_influences_list[remove_token_type]\n",
    "print(\"masked token:\", test_tok_sal_list[mask_ix[remove_token_type]][0])\n",
    "print()\n",
    "\n",
    "order_of_interest = \"max\"\n",
    "label_of_interest = \"both\"\n",
    "num_of_interest = 10\n",
    "\n",
    "train_idx_sorted = list(np.argsort(influences))\n",
    "if order_of_interest == \"max\":\n",
    "    train_idx_sorted.reverse()\n",
    "if label_of_interest == \"both\":\n",
    "    valid_labels = [\"0\", \"1\"]\n",
    "else:\n",
    "    valid_labels = [label_of_interest]\n",
    "\n",
    "cnt = 0\n",
    "for idx in train_idx_sorted:\n",
    "    te = train_examples[idx]\n",
    "    if te.label in valid_labels:\n",
    "        print(colored(te.text_a, \"blue\"), te.label)\n",
    "        print(influences[idx])\n",
    "        print()\n",
    "        cnt += 1\n",
    "    if cnt >= num_of_interest:\n",
    "        break"
   ]
  },
  {
   "cell_type": "code",
   "execution_count": null,
   "metadata": {},
   "outputs": [],
   "source": []
  },
  {
   "cell_type": "code",
   "execution_count": null,
   "metadata": {},
   "outputs": [],
   "source": []
  },
  {
   "cell_type": "code",
   "execution_count": null,
   "metadata": {},
   "outputs": [],
   "source": []
  },
  {
   "cell_type": "code",
   "execution_count": 162,
   "metadata": {},
   "outputs": [],
   "source": [
    "tp = 0.001\n",
    "\n",
    "idx_range = range(1, 51)\n",
    "influence_distance_lists = ([], [], [], [], [])\n",
    "for iti in idx_range:\n",
    "    orig_inf = pickle.load(open(\"from_aws/SA_influence_output_bert_e3/influences_test_\" + str(iti) + \".pkl\", \"rb\"))\n",
    "    diff_inf_list, m_ix = pickle.load(open(\"from_aws/SA_diff_influence_output_bert_e3/diff_mask_influences_test_\" + str(iti) + \".pkl\", \"rb\"))\n",
    "    for i, influences in enumerate(diff_inf_list):\n",
    "        influence_distance_lists[i].append(influence_distance(orig_inf, influences, top_percentage=tp))"
   ]
  },
  {
   "cell_type": "code",
   "execution_count": 163,
   "metadata": {},
   "outputs": [
    {
     "data": {
      "text/plain": [
       "0.7559999999999999"
      ]
     },
     "execution_count": 163,
     "metadata": {},
     "output_type": "execute_result"
    }
   ],
   "source": [
    "np.mean(influence_distance_lists[0])"
   ]
  },
  {
   "cell_type": "code",
   "execution_count": 164,
   "metadata": {},
   "outputs": [
    {
     "data": {
      "text/plain": [
       "0.8420000000000002"
      ]
     },
     "execution_count": 164,
     "metadata": {},
     "output_type": "execute_result"
    }
   ],
   "source": [
    "np.mean(influence_distance_lists[1])"
   ]
  },
  {
   "cell_type": "code",
   "execution_count": 165,
   "metadata": {},
   "outputs": [
    {
     "data": {
      "text/plain": [
       "0.652"
      ]
     },
     "execution_count": 165,
     "metadata": {},
     "output_type": "execute_result"
    }
   ],
   "source": [
    "np.mean(influence_distance_lists[2])"
   ]
  },
  {
   "cell_type": "code",
   "execution_count": 166,
   "metadata": {},
   "outputs": [
    {
     "data": {
      "text/plain": [
       "0.8440000000000001"
      ]
     },
     "execution_count": 166,
     "metadata": {},
     "output_type": "execute_result"
    }
   ],
   "source": [
    "np.mean(influence_distance_lists[3])"
   ]
  },
  {
   "cell_type": "code",
   "execution_count": 167,
   "metadata": {},
   "outputs": [
    {
     "data": {
      "text/plain": [
       "0.79"
      ]
     },
     "execution_count": 167,
     "metadata": {},
     "output_type": "execute_result"
    }
   ],
   "source": [
    "np.mean(influence_distance_lists[4])"
   ]
  },
  {
   "cell_type": "code",
   "execution_count": 168,
   "metadata": {},
   "outputs": [
    {
     "data": {
      "text/plain": [
       "<matplotlib.axes._subplots.AxesSubplot at 0x7f8fa5f34550>"
      ]
     },
     "execution_count": 168,
     "metadata": {},
     "output_type": "execute_result"
    },
    {
     "data": {
      "image/png": "[encoded data removed]",
      "text/plain": [
       "<Figure size 432x288 with 1 Axes>"
      ]
     },
     "metadata": {
      "needs_background": "light"
     },
     "output_type": "display_data"
    }
   ],
   "source": [
    "sns.pointplot(x=[\"low\"]*len(idx_range)+[\"mid\"]*len(idx_range)+[\"high\"]*len(idx_range)+[\"zero\"]*len(idx_range)+[\"rand\"]*len(idx_range),\n",
    "              y=influence_distance_lists[0]+influence_distance_lists[1]+influence_distance_lists[2]+influence_distance_lists[3]+influence_distance_lists[4], ci=68)"
   ]
  },
  {
   "cell_type": "code",
   "execution_count": null,
   "metadata": {},
   "outputs": [],
   "source": []
  }
 ],
 "metadata": {
  "kernelspec": {
   "display_name": "Python 3",
   "language": "python",
   "name": "python3"
  },
  "language_info": {
   "codemirror_mode": {
    "name": "ipython",
    "version": 3
   },
   "file_extension": ".py",
   "mimetype": "text/x-python",
   "name": "python",
   "nbconvert_exporter": "python",
   "pygments_lexer": "ipython3",
   "version": "3.7.6"
  }
 },
 "nbformat": 4,
 "nbformat_minor": 4
}
